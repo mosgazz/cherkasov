{
  "nbformat": 4,
  "nbformat_minor": 0,
  "metadata": {
    "colab": {
      "provenance": [],
      "authorship_tag": "ABX9TyORWR5rQw1CcC/Ce2zMnL7y",
      "include_colab_link": true
    },
    "kernelspec": {
      "name": "python3",
      "display_name": "Python 3"
    },
    "language_info": {
      "name": "python"
    }
  },
  "cells": [
    {
      "cell_type": "markdown",
      "metadata": {
        "id": "view-in-github",
        "colab_type": "text"
      },
      "source": [
        "<a href=\"https://colab.research.google.com/github/mosgazz/cherkasov/blob/main/%D0%A4%D0%B8%D0%BB%D1%8C%D0%BC%20%D0%9C%D0%BE%D1%81%D0%B3%D0%B0%D0%B7%20%D0%9F%D0%BE%D1%81%D0%BB%D0%B5%D0%B4%D0%BD%D0%B5%D0%B5%20%D0%B4%D0%B5%D0%BB%D0%BE%20%D0%BC%D0%B0%D0%B9%D0%BE%D1%80%D0%B0%20%D0%A7%D0%B5%D1%80%D0%BA%D0%B0%D1%81%D0%BE%D0%B2%D0%B0%20%D0%94%D0%B5%D0%BB%D0%BE%20%E2%84%969%20(2023)%20%D0%A1%D0%BC%D0%BE%D1%82%D1%80%D0%B5%D1%82%D1%8C%20%D0%BE%D0%BD%D0%BB%D0%B0%D0%B9%D0%BD.ipynb\" target=\"_parent\"><img src=\"https://colab.research.google.com/assets/colab-badge.svg\" alt=\"Open In Colab\"/></a>"
      ]
    },
    {
      "cell_type": "code",
      "execution_count": null,
      "metadata": {
        "id": "9GCNaDbR1jap"
      },
      "outputs": [],
      "source": []
    },
    {
      "cell_type": "markdown",
      "source": [
        "Фильм Мосгаз Последнее дело майора Черкасова Дело №9 (2023) Смотреть онлайн\n",
        "<p><a href=\"https://bit.ly/3n1TWMd\" target=\"_blank\" rel=\"noopener noreferrer\"><img src=\"https://i.imgur.com/2skYgg1.gif?top-gun-maverick\" alt=\"Ver ONE PIECE FILM RED Online\" /></a></p>\n",
        "<p>&nbsp;</p>\n",
        "\n",
        "https://bit.ly/3n1TWMd"
      ],
      "metadata": {
        "id": "_62T_Xyo1pyX"
      }
    }
  ]
}